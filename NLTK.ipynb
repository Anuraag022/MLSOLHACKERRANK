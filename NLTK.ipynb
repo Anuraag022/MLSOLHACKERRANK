{
 "cells": [
  {
   "cell_type": "markdown",
   "metadata": {
    "collapsed": true
   },
   "source": [
    "import nltk"
   ]
  },
  {
   "cell_type": "code",
   "execution_count": null,
   "metadata": {
    "collapsed": false
   },
   "outputs": [],
   "source": [
    "nltk.download()"
   ]
  },
  {
   "cell_type": "code",
   "execution_count": null,
   "metadata": {
    "collapsed": true
   },
   "outputs": [],
   "source": [
    "from nltk.tokenize import sent_tokenize, word_tokenize"
   ]
  },
  {
   "cell_type": "code",
   "execution_count": null,
   "metadata": {
    "collapsed": false
   },
   "outputs": [],
   "source": [
    "EXAMPLE_TEXT = \"Hello Mr. Smith, how are you doing today? The weather is great, and Python is awesome. The sky is pinkish-blue. You shouldn't eat cardboard.\"\n",
    "print(sent_tokenize(EXAMPLE_TEXT))"
   ]
  },
  {
   "cell_type": "code",
   "execution_count": null,
   "metadata": {
    "collapsed": false
   },
   "outputs": [],
   "source": [
    "print(word_tokenize(EXAMPLE_TEXT))"
   ]
  },
  {
   "cell_type": "code",
   "execution_count": null,
   "metadata": {
    "collapsed": false
   },
   "outputs": [],
   "source": [
    "from nltk.corpus import stopwords\n",
    "from nltk.tokenize import word_tokenize\n",
    "example_sent = \"This is a sample sentence, showing off the stop words filtration.\"\n",
    "stop_words = set(stopwords.words('english'))\n",
    "word_tokens = word_tokenize(example_sent)\n",
    "filtered_sentence=[]\n",
    "for w in word_tokens:\n",
    "    if w not in stop_words:\n",
    "                 filtered_sentence.append(w)\n",
    "print (filtered_sentence)"
   ]
  },
  {
   "cell_type": "markdown",
   "metadata": {},
   "source": [
    "# Stemming with python"
   ]
  },
  {
   "cell_type": "code",
   "execution_count": null,
   "metadata": {
    "collapsed": true
   },
   "outputs": [],
   "source": [
    "from nltk.stem import PorterStemmer\n",
    "from nltk.tokenize import sent_tokenize, word_tokenize\n",
    "\n",
    "ps = PorterStemmer()"
   ]
  },
  {
   "cell_type": "code",
   "execution_count": null,
   "metadata": {
    "collapsed": true
   },
   "outputs": [],
   "source": [
    "new_text = \"It is important to by very pythonly while you are pythoning with python. All pythoners have pythoned poorly at least once.\""
   ]
  },
  {
   "cell_type": "code",
   "execution_count": null,
   "metadata": {
    "collapsed": false
   },
   "outputs": [],
   "source": [
    "words=word_tokenize(new_text)\n",
    "for w in words:\n",
    "    print(ps.stem(w))"
   ]
  },
  {
   "cell_type": "code",
   "execution_count": null,
   "metadata": {
    "collapsed": true
   },
   "outputs": [],
   "source": [
    "import nltk\n",
    "from nltk.corpus import state_union\n",
    "from nltk.tokenize import PunktSentenceTokenizer"
   ]
  },
  {
   "cell_type": "code",
   "execution_count": null,
   "metadata": {
    "collapsed": true
   },
   "outputs": [],
   "source": [
    "train_text = state_union.raw(\"2005-GWBush.txt\")"
   ]
  },
  {
   "cell_type": "code",
   "execution_count": null,
   "metadata": {
    "collapsed": false
   },
   "outputs": [],
   "source": [
    "train_text"
   ]
  },
  {
   "cell_type": "code",
   "execution_count": null,
   "metadata": {
    "collapsed": true
   },
   "outputs": [],
   "source": [
    "sample_text = state_union.raw(\"2006-GWBush.txt\")"
   ]
  },
  {
   "cell_type": "code",
   "execution_count": null,
   "metadata": {
    "collapsed": false
   },
   "outputs": [],
   "source": [
    "sample_text"
   ]
  },
  {
   "cell_type": "code",
   "execution_count": null,
   "metadata": {
    "collapsed": true
   },
   "outputs": [],
   "source": [
    "custom_sent_tokenizer = PunktSentenceTokenizer(train_text)"
   ]
  },
  {
   "cell_type": "code",
   "execution_count": null,
   "metadata": {
    "collapsed": false
   },
   "outputs": [],
   "source": [
    "custom_sent_tokenizer"
   ]
  },
  {
   "cell_type": "code",
   "execution_count": null,
   "metadata": {
    "collapsed": true
   },
   "outputs": [],
   "source": [
    "tokenized = custom_sent_tokenizer.tokenize(sample_text)"
   ]
  },
  {
   "cell_type": "code",
   "execution_count": null,
   "metadata": {
    "collapsed": false
   },
   "outputs": [],
   "source": [
    "tokenized"
   ]
  },
  {
   "cell_type": "code",
   "execution_count": 8,
   "metadata": {
    "collapsed": false
   },
   "outputs": [
    {
     "name": "stdout",
     "output_type": "stream",
     "text": [
      "(S 31/CD ,/, 2006/CD ./.)\n",
      "(S\n",
      "  (FACILITY White/NNP)\n",
      "  (ORGANIZATION House/NNP)\n",
      "  photo/NN\n",
      "  by/IN\n",
      "  (PERSON Eric/NNP)\n",
      "  DraperEvery/NNP\n",
      "  time/NN\n",
      "  I/PRP\n",
      "  'm/VBP\n",
      "  invited/JJ\n",
      "  to/TO\n",
      "  this/DT\n",
      "  rostrum/NN\n",
      "  ,/,\n",
      "  I/PRP\n",
      "  'm/VBP\n",
      "  humbled/VBN\n",
      "  by/IN\n",
      "  the/DT\n",
      "  privilege/NN\n",
      "  ,/,\n",
      "  and/CC\n",
      "  mindful/NN\n",
      "  of/IN\n",
      "  the/DT\n",
      "  history/NN\n",
      "  we/PRP\n",
      "  've/VBP\n",
      "  seen/VBN\n",
      "  together/RB\n",
      "  ./.)\n",
      "(S\n",
      "  We/PRP\n",
      "  have/VBP\n",
      "  gathered/VBN\n",
      "  under/IN\n",
      "  this/DT\n",
      "  Capitol/NNP\n",
      "  dome/NN\n",
      "  in/IN\n",
      "  moments/NNS\n",
      "  of/IN\n",
      "  national/JJ\n",
      "  mourning/NN\n",
      "  and/CC\n",
      "  national/JJ\n",
      "  achievement/NN\n",
      "  ./.)\n",
      "(S\n",
      "  We/PRP\n",
      "  have/VBP\n",
      "  served/VBN\n",
      "  (GPE America/NNP)\n",
      "  through/IN\n",
      "  one/CD\n",
      "  of/IN\n",
      "  the/DT\n",
      "  most/RBS\n",
      "  consequential/JJ\n",
      "  periods/NNS\n",
      "  of/IN\n",
      "  our/PRP$\n",
      "  history/NN\n",
      "  --/:\n",
      "  and/CC\n",
      "  it/PRP\n",
      "  has/VBZ\n",
      "  been/VBN\n",
      "  my/PRP$\n",
      "  honor/NN\n",
      "  to/TO\n",
      "  serve/VB\n",
      "  with/IN\n",
      "  you/PRP\n",
      "  ./.)\n",
      "(S\n",
      "  In/IN\n",
      "  a/DT\n",
      "  system/NN\n",
      "  of/IN\n",
      "  two/CD\n",
      "  parties/NNS\n",
      "  ,/,\n",
      "  two/CD\n",
      "  chambers/NNS\n",
      "  ,/,\n",
      "  and/CC\n",
      "  two/CD\n",
      "  elected/JJ\n",
      "  branches/NNS\n",
      "  ,/,\n",
      "  there/EX\n",
      "  will/MD\n",
      "  always/RB\n",
      "  be/VB\n",
      "  differences/NNS\n",
      "  and/CC\n",
      "  debate/NN\n",
      "  ./.)\n"
     ]
    }
   ],
   "source": [
    "import nltk\n",
    "from nltk.corpus import state_union\n",
    "from nltk.tokenize import PunktSentenceTokenizer\n",
    "\n",
    "train_text = state_union.raw(\"2005-GWBush.txt\")\n",
    "sample_text = state_union.raw(\"2006-GWBush.txt\")\n",
    "\n",
    "custom_sent_tokenizer = PunktSentenceTokenizer(train_text)\n",
    "\n",
    "tokenized = custom_sent_tokenizer.tokenize(sample_text)\n",
    "\n",
    "def process_content():\n",
    "    try:\n",
    "        for i in tokenized[5:10]:\n",
    "            words = nltk.word_tokenize(i)\n",
    "            tagged = nltk.pos_tag(words)\n",
    "            namedEnt = nltk.ne_chunk(tagged, binary=False)\n",
    "            print(namedEnt)\n",
    "    except Exception as e:\n",
    "        print(str(e))\n",
    "\n",
    "\n",
    "process_content()"
   ]
  },
  {
   "cell_type": "code",
   "execution_count": 4,
   "metadata": {
    "collapsed": false
   },
   "outputs": [
    {
     "name": "stdout",
     "output_type": "stream",
     "text": [
      "cat\n",
      "cactus\n",
      "goose\n",
      "rock\n",
      "python\n",
      "good\n",
      "best\n",
      "run\n",
      "running\n",
      "run\n"
     ]
    }
   ],
   "source": [
    "from nltk.stem import WordNetLemmatizer\n",
    "\n",
    "lemmatizer = WordNetLemmatizer()\n",
    "\n",
    "print(lemmatizer.lemmatize(\"cats\"))\n",
    "print(lemmatizer.lemmatize(\"cacti\"))\n",
    "print(lemmatizer.lemmatize(\"geese\"))\n",
    "print(lemmatizer.lemmatize(\"rocks\"))\n",
    "print(lemmatizer.lemmatize(\"python\"))\n",
    "print(lemmatizer.lemmatize(\"better\",pos=\"a\"))\n",
    "print(lemmatizer.lemmatize(\"best\", pos=\"a\"))\n",
    "print(lemmatizer.lemmatize(\"run\"))\n",
    "print(lemmatizer.lemmatize(\"running\"))\n",
    "print(lemmatizer.lemmatize(\"run\",'v'))"
   ]
  },
  {
   "cell_type": "code",
   "execution_count": 1,
   "metadata": {
    "collapsed": true
   },
   "outputs": [],
   "source": [
    "from nltk.corpus import wordnet"
   ]
  },
  {
   "cell_type": "code",
   "execution_count": 2,
   "metadata": {
    "collapsed": true
   },
   "outputs": [],
   "source": [
    "syns = wordnet.synsets(\"program\")"
   ]
  },
  {
   "cell_type": "code",
   "execution_count": 3,
   "metadata": {
    "collapsed": false
   },
   "outputs": [
    {
     "name": "stdout",
     "output_type": "stream",
     "text": [
      "0.9090909090909091\n"
     ]
    }
   ],
   "source": [
    "w1 = wordnet.synset('ship.n.01')\n",
    "w2 = wordnet.synset('boat.n.01')\n",
    "print(w1.wup_similarity(w2))"
   ]
  },
  {
   "cell_type": "code",
   "execution_count": 5,
   "metadata": {
    "collapsed": false
   },
   "outputs": [
    {
     "name": "stdout",
     "output_type": "stream",
     "text": [
      "0.875\n"
     ]
    }
   ],
   "source": [
    "w1 = wordnet.synset('male.n.01')\n",
    "w2 = wordnet.synset('female.n.01')\n",
    "print(w1.wup_similarity(w2))"
   ]
  },
  {
   "cell_type": "code",
   "execution_count": 6,
   "metadata": {
    "collapsed": true
   },
   "outputs": [],
   "source": [
    "import random\n",
    "from nltk.corpus import movie_reviews"
   ]
  },
  {
   "cell_type": "code",
   "execution_count": 8,
   "metadata": {
    "collapsed": false
   },
   "outputs": [],
   "source": [
    "x=movie_reviews.categories()"
   ]
  },
  {
   "cell_type": "code",
   "execution_count": 9,
   "metadata": {
    "collapsed": false
   },
   "outputs": [
    {
     "data": {
      "text/plain": [
       "['neg', 'pos']"
      ]
     },
     "execution_count": 9,
     "metadata": {},
     "output_type": "execute_result"
    }
   ],
   "source": [
    "x"
   ]
  },
  {
   "cell_type": "code",
   "execution_count": 18,
   "metadata": {
    "collapsed": false
   },
   "outputs": [],
   "source": [
    "documents = [(list(movie_reviews.words(fileid)), category)\n",
    "             for category in movie_reviews.categories()\n",
    "             for fileid in movie_reviews.fileids(category)]"
   ]
  },
  {
   "cell_type": "code",
   "execution_count": 20,
   "metadata": {
    "collapsed": false
   },
   "outputs": [],
   "source": [
    "random.shuffle(documents)"
   ]
  },
  {
   "cell_type": "code",
   "execution_count": 21,
   "metadata": {
    "collapsed": false
   },
   "outputs": [
    {
     "name": "stdout",
     "output_type": "stream",
     "text": [
      "(['it', 'must', 'be', 'tough', 'to', 'be', 'a', 'mob', 'boss', '.', 'just', 'ask', 'paul', 'vitti', '(', 'robert', 'deniro', ')', ',', 'a', 'man', 'who', 'finds', 'his', 'job', 'as', 'mafia', 'head', 'to', 'be', 'rather', 'stress', 'inducing', '.', 'i', 'can', 'believe', 'it', ',', 'too', '-', 'one', 'can', \"'\", 't', 'even', 'begin', 'to', 'fathom', 'the', 'turmoil', 'he', 'must', 'go', 'through', 'when', 'he', \"'\", 's', 'forced', 'to', 'choose', 'between', 'an', 'ice', 'pick', ',', 'baseball', 'bat', 'or', 'sledgehammer', 'to', 'torture', 'victims', 'with', '.', 'suffering', 'from', 'reoccurring', 'panic', 'attacks', ',', 'paul', 'decides', 'he', 'needs', 'to', 'consult', 'some', 'professional', 'help', '.', 'and', 'who', 'better', 'than', 'billy', 'crystal', '.', 'after', 'appearing', 'in', 'bottom', '-', 'of', '-', 'the', '-', 'barrel', 'flops', ',', 'father', \"'\", 's', 'day', 'and', 'my', 'giant', ',', 'crystal', 'finally', 'finds', 'a', 'reliable', 'costar', 'and', 'some', 'very', 'promising', 'material', 'here', '.', 'playing', 'vitti', \"'\", 's', 'private', 'shrink', ',', 'the', 'two', 'very', 'different', 'stars', 'strike', 'an', 'unorthodox', ',', 'but', 'interesting', 'relationship', 'that', 'carries', 'this', 'enjoyable', 'comedy', 'on', 'a', 'steady', 'wave', 'of', 'laughs', 'from', 'start', 'to', 'finish', '.', 'casting', 'robert', 'deniro', 'as', 'paul', 'vitti', 'is', 'something', 'of', 'an', 'in', '-', 'joke', ',', 'i', 'think', '.', 'placed', 'in', 'this', 'mobster', \"'\", 's', 'shoes', ',', 'deniro', 'gets', 'to', 'spoof', 'characters', 'he', 'himself', 'played', 'in', 'films', 'like', 'the', 'godfather', ',', 'part', 'ii', 'and', 'casino', '.', 'it', \"'\", 's', 'obvious', 'he', \"'\", 's', 'having', 'a', 'lot', 'of', 'fun', 'doing', 'so', '.', 'the', 'man', 'behind', 'the', 'camera', 'is', 'harold', 'ramis', ',', 'whose', 'credits', 'include', 'ghostbusters', '(', 'as', 'writer', 'and', 'star', ')', ',', 'and', 'his', 'best', 'directing', 'effort', ',', 'the', 'bill', 'murray', 'vehicle', ',', 'groundhog', 'day', '.', 'ramis', 'has', 'a', 'knack', 'for', 'drawing', 'laughs', 'because', 'he', 'simply', 'knows', 'what', \"'\", 's', 'funny', ',', 'and', 'here', 'he', 'manages', 'to', 'accentuate', 'the', 'strengths', 'of', 'nearly', 'all', 'the', 'actors', '.', 'the', 'only', 'character', 'who', 'weakens', 'the', 'payoff', 'is', 'crystal', \"'\", 's', 'bride', '-', 'to', '-', 'be', '(', 'lisa', 'kudrow', ')', '.', 'playing', 'the', 'same', 'dumbed', '-', 'down', 'role', 'as', 'she', 'does', 'in', 'friends', ',', 'kudrow', 'is', 'amusing', ',', 'but', 'doesn', \"'\", 't', 'fit', 'into', 'this', 'comedy', 'mold', 'as', 'well', 'as', 'the', 'director', 'may', 'have', 'hoped', '.', 'the', 'supporting', 'cast', 'sparkles', '.', 'joe', 'viterelli', 'is', 'hilarious', 'as', 'jelly', ',', 'vitti', \"'\", 's', 'pea', 'brained', 'right', '-', 'hand', 'man', ',', 'and', 'chazz', 'palminteri', 'is', 'a', 'show', 'stopper', 'playing', 'a', 'fellow', 'mobster', 'who', \"'\", 's', 'in', 'desperate', 'need', 'of', 'the', 'definition', 'of', '`', 'closure', \"'\", '.', 'the', 'movie', 'manages', 'to', 'maintain', 'consistent', 'chuckles', 'throughout', ',', 'putting', 'the', 'emphasis', 'on', '3', 'or', '4', 'really', 'big', 'laughs', 'that', 'will', 'have', 'audiences', 'grasping', 'their', 'sides', '.', 'the', 'situation', 'is', 'just', 'too', 'cute', 'to', 'resist', '.', 'it', \"'\", 's', 'unfortunate', 'that', 'the', 'language', 'gets', 'somewhat', 'out', 'of', 'hand', '.', 'but', 'hey', ',', 'if', 'you', \"'\", 're', 'in', 'the', 'mafia', ',', 'using', 'obscenities', 'probably', 'comes', 'naturally', '.', 'and', 'near', 'the', 'end', ',', 'seeing', 'billy', 'crystal', 'attempt', 'to', 'walk', 'and', 'talk', 'like', 'a', 'mob', 'boss', 'is', 'truly', 'a', 'special', 'treat', '.'], 'pos')\n"
     ]
    }
   ],
   "source": [
    "print(documents[1])"
   ]
  },
  {
   "cell_type": "code",
   "execution_count": 2,
   "metadata": {
    "collapsed": false
   },
   "outputs": [
    {
     "name": "stdout",
     "output_type": "stream",
     "text": [
      "[('i', 'NN'), ('want', 'VBP'), ('to', 'TO'), ('transfer', 'VB'), ('money', 'NN')]\n"
     ]
    }
   ],
   "source": [
    "from nltk import word_tokenize,Text,pos_tag\n",
    "sentence = \"i want to transfer money\"\n",
    "tokens = word_tokenize(sentence)\n",
    "text = Text(tokens)\n",
    "tags = pos_tag(text)\n",
    "#tags[3]\n",
    "print (tags)"
   ]
  },
  {
   "cell_type": "code",
   "execution_count": 3,
   "metadata": {
    "collapsed": false
   },
   "outputs": [
    {
     "name": "stdout",
     "output_type": "stream",
     "text": [
      "NN\n",
      "VBP\n",
      "TO\n",
      "VB\n"
     ]
    }
   ],
   "source": [
    "for i in range(len(tags) -1):\n",
    "    print(tags[i][1])"
   ]
  },
  {
   "cell_type": "code",
   "execution_count": 7,
   "metadata": {
    "collapsed": false
   },
   "outputs": [
    {
     "name": "stdout",
     "output_type": "stream",
     "text": [
      "transfer VB\n"
     ]
    }
   ],
   "source": [
    "nouns = \"NN NNP PRP NNS\".split()\n",
    "verbs = \"VB VBD VBZ\".split()\n",
    "for i in range(len(tags) -1):\n",
    "    if tags[i][1] in verbs and tags[i+1][1] in nouns:\n",
    "        print(tags[i][0],tags[i][1])"
   ]
  },
  {
   "cell_type": "code",
   "execution_count": 3,
   "metadata": {
    "collapsed": false
   },
   "outputs": [
    {
     "name": "stdout",
     "output_type": "stream",
     "text": [
      "[('I', 'PRP'), ('want', 'VBP'), ('to', 'TO'), ('transfer', 'VB'), ('money', 'NN')]\n",
      "This sentencesays to perform some action: transfer VB\n",
      "[('What', 'WP'), ('is', 'VBZ'), ('oam', 'JJ')]\n",
      "[('I', 'PRP'), ('want', 'VBP'), ('pizza', 'NN')]\n",
      "This sentencesays to perform some action: want VBP\n",
      "[('I', 'PRP'), ('am', 'VBP'), ('playing', 'VBG'), ('cricket', 'NN')]\n",
      "This sentencesays to perform some action: playing VBG\n",
      "[('Yes', 'UH'), ('I', 'PRP'), ('am', 'VBP')]\n",
      "[('What', 'WP'), ('is', 'VBZ'), ('the', 'DT'), ('colour', 'NN'), ('of', 'IN'), ('orange', 'NN')]\n",
      "[('Who', 'WP'), ('is', 'VBZ'), ('president', 'NN'), ('of', 'IN'), ('india', 'NN')]\n"
     ]
    }
   ],
   "source": [
    "from nltk import word_tokenize,Text,pos_tag\n",
    "def sentence_matcher(sentence):\n",
    "    tokens = word_tokenize(sentence)\n",
    "    text = Text(tokens)\n",
    "    tags = pos_tag(text)\n",
    "    print (tags)\n",
    "    nouns = \"NN NNP PRP NNS\".split()\n",
    "    verbs = \"VB VBD VBP VBG\".split()\n",
    "    for i in range(len(tags) -1):\n",
    "        if tags[i][1] in verbs and tags[i+1][1] in nouns:\n",
    "            print(\"This sentencesays to perform some action:\",tags[i][0],tags[i][1])\n",
    "sentence_matcher(\"I want to transfer money\")\n",
    "sentence_matcher(\"What is oam\")\n",
    "sentence_matcher(\"I want pizza\")\n",
    "sentence_matcher(\"I am playing cricket\")\n",
    "sentence_matcher(\"Yes I am\")\n",
    "sentence_matcher(\"What is the colour of orange\")\n",
    "sentence_matcher(\"Who is president of india\")"
   ]
  },
  {
   "cell_type": "code",
   "execution_count": 32,
   "metadata": {
    "collapsed": false
   },
   "outputs": [
    {
     "name": "stdout",
     "output_type": "stream",
     "text": [
      "0.14285714285714285\n"
     ]
    }
   ],
   "source": [
    "from nltk.corpus import wordnet as wn\n",
    "hit=wn.synset('hit.v.01')\n",
    "slap = wn.synset('slap.v.01')\n",
    "print (wn.path_similarity(hit, slap))"
   ]
  }
 ],
 "metadata": {
  "kernelspec": {
   "display_name": "Python 3",
   "language": "python",
   "name": "python3"
  },
  "language_info": {
   "codemirror_mode": {
    "name": "ipython",
    "version": 3
   },
   "file_extension": ".py",
   "mimetype": "text/x-python",
   "name": "python",
   "nbconvert_exporter": "python",
   "pygments_lexer": "ipython3",
   "version": "3.5.2"
  }
 },
 "nbformat": 4,
 "nbformat_minor": 2
}
